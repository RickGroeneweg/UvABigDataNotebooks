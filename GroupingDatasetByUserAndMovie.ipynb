{
 "cells": [
  {
   "cell_type": "code",
   "execution_count": 4,
   "metadata": {},
   "outputs": [],
   "source": [
    "import pandas as pd\n",
    "import torch"
   ]
  },
  {
   "cell_type": "code",
   "execution_count": 5,
   "metadata": {},
   "outputs": [],
   "source": [
    "rating_df = pd.read_pickle('df.pkl')\n",
    "rating_df['userId'] = rating_df['userId'] -1 \n",
    "rating_df['rating'] = rating_df['rating']/5"
   ]
  },
  {
   "cell_type": "code",
   "execution_count": 6,
   "metadata": {},
   "outputs": [
    {
     "data": {
      "text/html": [
       "<div>\n",
       "<style scoped>\n",
       "    .dataframe tbody tr th:only-of-type {\n",
       "        vertical-align: middle;\n",
       "    }\n",
       "\n",
       "    .dataframe tbody tr th {\n",
       "        vertical-align: top;\n",
       "    }\n",
       "\n",
       "    .dataframe thead th {\n",
       "        text-align: right;\n",
       "    }\n",
       "</style>\n",
       "<table border=\"1\" class=\"dataframe\">\n",
       "  <thead>\n",
       "    <tr style=\"text-align: right;\">\n",
       "      <th></th>\n",
       "      <th>index</th>\n",
       "      <th>userId</th>\n",
       "      <th>movieId</th>\n",
       "      <th>rating</th>\n",
       "      <th>timestamp</th>\n",
       "      <th>ratings_of_movieId</th>\n",
       "    </tr>\n",
       "  </thead>\n",
       "  <tbody>\n",
       "    <tr>\n",
       "      <th>0</th>\n",
       "      <td>0</td>\n",
       "      <td>0</td>\n",
       "      <td>0</td>\n",
       "      <td>0.7</td>\n",
       "      <td>2005-04-02 23:53:47</td>\n",
       "      <td>22243</td>\n",
       "    </tr>\n",
       "    <tr>\n",
       "      <th>2378699</th>\n",
       "      <td>151</td>\n",
       "      <td>0</td>\n",
       "      <td>151</td>\n",
       "      <td>0.8</td>\n",
       "      <td>2005-04-02 23:49:46</td>\n",
       "      <td>1724</td>\n",
       "    </tr>\n",
       "    <tr>\n",
       "      <th>2380423</th>\n",
       "      <td>152</td>\n",
       "      <td>0</td>\n",
       "      <td>152</td>\n",
       "      <td>0.7</td>\n",
       "      <td>2005-04-02 23:31:26</td>\n",
       "      <td>8665</td>\n",
       "    </tr>\n",
       "    <tr>\n",
       "      <th>2389088</th>\n",
       "      <td>153</td>\n",
       "      <td>0</td>\n",
       "      <td>153</td>\n",
       "      <td>0.7</td>\n",
       "      <td>2005-04-02 23:54:20</td>\n",
       "      <td>46</td>\n",
       "    </tr>\n",
       "    <tr>\n",
       "      <th>2389134</th>\n",
       "      <td>154</td>\n",
       "      <td>0</td>\n",
       "      <td>154</td>\n",
       "      <td>0.6</td>\n",
       "      <td>2005-04-02 23:55:27</td>\n",
       "      <td>2521</td>\n",
       "    </tr>\n",
       "    <tr>\n",
       "      <th>...</th>\n",
       "      <td>...</td>\n",
       "      <td>...</td>\n",
       "      <td>...</td>\n",
       "      <td>...</td>\n",
       "      <td>...</td>\n",
       "      <td>...</td>\n",
       "    </tr>\n",
       "    <tr>\n",
       "      <th>9184398</th>\n",
       "      <td>20000154</td>\n",
       "      <td>138492</td>\n",
       "      <td>847</td>\n",
       "      <td>0.6</td>\n",
       "      <td>2010-01-01 20:42:35</td>\n",
       "      <td>1206</td>\n",
       "    </tr>\n",
       "    <tr>\n",
       "      <th>2613665</th>\n",
       "      <td>19999898</td>\n",
       "      <td>138492</td>\n",
       "      <td>178</td>\n",
       "      <td>0.6</td>\n",
       "      <td>2009-10-17 22:09:41</td>\n",
       "      <td>53769</td>\n",
       "    </tr>\n",
       "    <tr>\n",
       "      <th>5573875</th>\n",
       "      <td>19999928</td>\n",
       "      <td>138492</td>\n",
       "      <td>406</td>\n",
       "      <td>0.9</td>\n",
       "      <td>2009-10-17 20:29:40</td>\n",
       "      <td>44208</td>\n",
       "    </tr>\n",
       "    <tr>\n",
       "      <th>18306126</th>\n",
       "      <td>19999977</td>\n",
       "      <td>138492</td>\n",
       "      <td>4908</td>\n",
       "      <td>0.9</td>\n",
       "      <td>2009-10-17 21:53:01</td>\n",
       "      <td>200</td>\n",
       "    </tr>\n",
       "    <tr>\n",
       "      <th>9411262</th>\n",
       "      <td>20000203</td>\n",
       "      <td>138492</td>\n",
       "      <td>914</td>\n",
       "      <td>0.9</td>\n",
       "      <td>2009-11-16 16:59:18</td>\n",
       "      <td>6456</td>\n",
       "    </tr>\n",
       "  </tbody>\n",
       "</table>\n",
       "<p>19976012 rows × 6 columns</p>\n",
       "</div>"
      ],
      "text/plain": [
       "             index  userId  movieId  rating            timestamp  \\\n",
       "0                0       0        0     0.7  2005-04-02 23:53:47   \n",
       "2378699        151       0      151     0.8  2005-04-02 23:49:46   \n",
       "2380423        152       0      152     0.7  2005-04-02 23:31:26   \n",
       "2389088        153       0      153     0.7  2005-04-02 23:54:20   \n",
       "2389134        154       0      154     0.6  2005-04-02 23:55:27   \n",
       "...            ...     ...      ...     ...                  ...   \n",
       "9184398   20000154  138492      847     0.6  2010-01-01 20:42:35   \n",
       "2613665   19999898  138492      178     0.6  2009-10-17 22:09:41   \n",
       "5573875   19999928  138492      406     0.9  2009-10-17 20:29:40   \n",
       "18306126  19999977  138492     4908     0.9  2009-10-17 21:53:01   \n",
       "9411262   20000203  138492      914     0.9  2009-11-16 16:59:18   \n",
       "\n",
       "          ratings_of_movieId  \n",
       "0                      22243  \n",
       "2378699                 1724  \n",
       "2380423                 8665  \n",
       "2389088                   46  \n",
       "2389134                 2521  \n",
       "...                      ...  \n",
       "9184398                 1206  \n",
       "2613665                53769  \n",
       "5573875                44208  \n",
       "18306126                 200  \n",
       "9411262                 6456  \n",
       "\n",
       "[19976012 rows x 6 columns]"
      ]
     },
     "execution_count": 6,
     "metadata": {},
     "output_type": "execute_result"
    }
   ],
   "source": [
    "rating_df.sort_values(by=['userId'])"
   ]
  },
  {
   "cell_type": "code",
   "execution_count": 7,
   "metadata": {},
   "outputs": [
    {
     "data": {
      "text/plain": [
       "16872"
      ]
     },
     "execution_count": 7,
     "metadata": {},
     "output_type": "execute_result"
    }
   ],
   "source": [
    "rating_df['movieId'].nunique()"
   ]
  },
  {
   "cell_type": "code",
   "execution_count": 4,
   "metadata": {},
   "outputs": [],
   "source": [
    "from sklearn.model_selection import train_test_split"
   ]
  },
  {
   "cell_type": "code",
   "execution_count": 8,
   "metadata": {},
   "outputs": [
    {
     "data": {
      "text/plain": [
       "138493"
      ]
     },
     "execution_count": 8,
     "metadata": {},
     "output_type": "execute_result"
    }
   ],
   "source": [
    "rating_df['userId'].nunique()"
   ]
  },
  {
   "cell_type": "code",
   "execution_count": null,
   "metadata": {},
   "outputs": [],
   "source": []
  },
  {
   "cell_type": "code",
   "execution_count": 5,
   "metadata": {},
   "outputs": [],
   "source": [
    "train_rating_df, test_rating_df = train_test_split(rating_df, shuffle = True, test_size = 0.001)"
   ]
  },
  {
   "cell_type": "code",
   "execution_count": 6,
   "metadata": {},
   "outputs": [
    {
     "data": {
      "text/html": [
       "<div>\n",
       "<style scoped>\n",
       "    .dataframe tbody tr th:only-of-type {\n",
       "        vertical-align: middle;\n",
       "    }\n",
       "\n",
       "    .dataframe tbody tr th {\n",
       "        vertical-align: top;\n",
       "    }\n",
       "\n",
       "    .dataframe thead th {\n",
       "        text-align: right;\n",
       "    }\n",
       "</style>\n",
       "<table border=\"1\" class=\"dataframe\">\n",
       "  <thead>\n",
       "    <tr style=\"text-align: right;\">\n",
       "      <th></th>\n",
       "      <th>index</th>\n",
       "      <th>userId</th>\n",
       "      <th>movieId</th>\n",
       "      <th>rating</th>\n",
       "      <th>timestamp</th>\n",
       "      <th>ratings_of_movieId</th>\n",
       "    </tr>\n",
       "  </thead>\n",
       "  <tbody>\n",
       "    <tr>\n",
       "      <th>4569390</th>\n",
       "      <td>1409210</td>\n",
       "      <td>9543</td>\n",
       "      <td>353</td>\n",
       "      <td>0.6</td>\n",
       "      <td>2002-07-20 19:09:32</td>\n",
       "      <td>20791</td>\n",
       "    </tr>\n",
       "    <tr>\n",
       "      <th>1064737</th>\n",
       "      <td>7043530</td>\n",
       "      <td>48562</td>\n",
       "      <td>34</td>\n",
       "      <td>1.0</td>\n",
       "      <td>2000-05-09 00:22:51</td>\n",
       "      <td>23090</td>\n",
       "    </tr>\n",
       "    <tr>\n",
       "      <th>8723426</th>\n",
       "      <td>7989335</td>\n",
       "      <td>55067</td>\n",
       "      <td>776</td>\n",
       "      <td>0.6</td>\n",
       "      <td>2009-02-13 15:59:18</td>\n",
       "      <td>3682</td>\n",
       "    </tr>\n",
       "    <tr>\n",
       "      <th>11020302</th>\n",
       "      <td>5361676</td>\n",
       "      <td>36803</td>\n",
       "      <td>1246</td>\n",
       "      <td>1.0</td>\n",
       "      <td>1999-12-22 16:30:18</td>\n",
       "      <td>7846</td>\n",
       "    </tr>\n",
       "    <tr>\n",
       "      <th>14811016</th>\n",
       "      <td>18986244</td>\n",
       "      <td>131367</td>\n",
       "      <td>2147</td>\n",
       "      <td>1.0</td>\n",
       "      <td>1999-10-19 07:47:43</td>\n",
       "      <td>5625</td>\n",
       "    </tr>\n",
       "    <tr>\n",
       "      <th>...</th>\n",
       "      <td>...</td>\n",
       "      <td>...</td>\n",
       "      <td>...</td>\n",
       "      <td>...</td>\n",
       "      <td>...</td>\n",
       "      <td>...</td>\n",
       "    </tr>\n",
       "    <tr>\n",
       "      <th>14007451</th>\n",
       "      <td>6975834</td>\n",
       "      <td>48061</td>\n",
       "      <td>1912</td>\n",
       "      <td>0.9</td>\n",
       "      <td>2010-01-17 16:42:11</td>\n",
       "      <td>7895</td>\n",
       "    </tr>\n",
       "    <tr>\n",
       "      <th>1598436</th>\n",
       "      <td>4148995</td>\n",
       "      <td>28247</td>\n",
       "      <td>77</td>\n",
       "      <td>0.8</td>\n",
       "      <td>1999-12-22 21:24:17</td>\n",
       "      <td>15442</td>\n",
       "    </tr>\n",
       "    <tr>\n",
       "      <th>12641247</th>\n",
       "      <td>16795982</td>\n",
       "      <td>116201</td>\n",
       "      <td>1555</td>\n",
       "      <td>1.0</td>\n",
       "      <td>2001-10-21 19:15:31</td>\n",
       "      <td>7718</td>\n",
       "    </tr>\n",
       "    <tr>\n",
       "      <th>19017645</th>\n",
       "      <td>800382</td>\n",
       "      <td>5340</td>\n",
       "      <td>6322</td>\n",
       "      <td>0.2</td>\n",
       "      <td>2009-11-13 06:15:19</td>\n",
       "      <td>91</td>\n",
       "    </tr>\n",
       "    <tr>\n",
       "      <th>8153983</th>\n",
       "      <td>2423938</td>\n",
       "      <td>16385</td>\n",
       "      <td>689</td>\n",
       "      <td>0.8</td>\n",
       "      <td>2005-10-10 04:40:28</td>\n",
       "      <td>11975</td>\n",
       "    </tr>\n",
       "  </tbody>\n",
       "</table>\n",
       "<p>19956035 rows × 6 columns</p>\n",
       "</div>"
      ],
      "text/plain": [
       "             index  userId  movieId  rating            timestamp  \\\n",
       "4569390    1409210    9543      353     0.6  2002-07-20 19:09:32   \n",
       "1064737    7043530   48562       34     1.0  2000-05-09 00:22:51   \n",
       "8723426    7989335   55067      776     0.6  2009-02-13 15:59:18   \n",
       "11020302   5361676   36803     1246     1.0  1999-12-22 16:30:18   \n",
       "14811016  18986244  131367     2147     1.0  1999-10-19 07:47:43   \n",
       "...            ...     ...      ...     ...                  ...   \n",
       "14007451   6975834   48061     1912     0.9  2010-01-17 16:42:11   \n",
       "1598436    4148995   28247       77     0.8  1999-12-22 21:24:17   \n",
       "12641247  16795982  116201     1555     1.0  2001-10-21 19:15:31   \n",
       "19017645    800382    5340     6322     0.2  2009-11-13 06:15:19   \n",
       "8153983    2423938   16385      689     0.8  2005-10-10 04:40:28   \n",
       "\n",
       "          ratings_of_movieId  \n",
       "4569390                20791  \n",
       "1064737                23090  \n",
       "8723426                 3682  \n",
       "11020302                7846  \n",
       "14811016                5625  \n",
       "...                      ...  \n",
       "14007451                7895  \n",
       "1598436                15442  \n",
       "12641247                7718  \n",
       "19017645                  91  \n",
       "8153983                11975  \n",
       "\n",
       "[19956035 rows x 6 columns]"
      ]
     },
     "execution_count": 6,
     "metadata": {},
     "output_type": "execute_result"
    }
   ],
   "source": [
    "train_rating_df"
   ]
  },
  {
   "cell_type": "code",
   "execution_count": 7,
   "metadata": {},
   "outputs": [
    {
     "data": {
      "text/html": [
       "<div>\n",
       "<style scoped>\n",
       "    .dataframe tbody tr th:only-of-type {\n",
       "        vertical-align: middle;\n",
       "    }\n",
       "\n",
       "    .dataframe tbody tr th {\n",
       "        vertical-align: top;\n",
       "    }\n",
       "\n",
       "    .dataframe thead th {\n",
       "        text-align: right;\n",
       "    }\n",
       "</style>\n",
       "<table border=\"1\" class=\"dataframe\">\n",
       "  <thead>\n",
       "    <tr style=\"text-align: right;\">\n",
       "      <th></th>\n",
       "      <th>index</th>\n",
       "      <th>userId</th>\n",
       "      <th>movieId</th>\n",
       "      <th>rating</th>\n",
       "      <th>timestamp</th>\n",
       "      <th>ratings_of_movieId</th>\n",
       "    </tr>\n",
       "  </thead>\n",
       "  <tbody>\n",
       "    <tr>\n",
       "      <th>9577464</th>\n",
       "      <td>2213267</td>\n",
       "      <td>15016</td>\n",
       "      <td>965</td>\n",
       "      <td>0.7</td>\n",
       "      <td>2009-02-15 04:42:47</td>\n",
       "      <td>3684</td>\n",
       "    </tr>\n",
       "    <tr>\n",
       "      <th>7147461</th>\n",
       "      <td>17158122</td>\n",
       "      <td>118697</td>\n",
       "      <td>590</td>\n",
       "      <td>0.1</td>\n",
       "      <td>2015-03-14 00:02:54</td>\n",
       "      <td>15977</td>\n",
       "    </tr>\n",
       "    <tr>\n",
       "      <th>12085349</th>\n",
       "      <td>5660850</td>\n",
       "      <td>38959</td>\n",
       "      <td>1460</td>\n",
       "      <td>0.6</td>\n",
       "      <td>2000-09-20 23:06:00</td>\n",
       "      <td>12999</td>\n",
       "    </tr>\n",
       "    <tr>\n",
       "      <th>5373855</th>\n",
       "      <td>12276050</td>\n",
       "      <td>84799</td>\n",
       "      <td>398</td>\n",
       "      <td>0.6</td>\n",
       "      <td>1997-04-29 06:35:52</td>\n",
       "      <td>9083</td>\n",
       "    </tr>\n",
       "    <tr>\n",
       "      <th>9769020</th>\n",
       "      <td>12904751</td>\n",
       "      <td>89124</td>\n",
       "      <td>1044</td>\n",
       "      <td>0.5</td>\n",
       "      <td>2008-08-04 16:38:39</td>\n",
       "      <td>32255</td>\n",
       "    </tr>\n",
       "    <tr>\n",
       "      <th>...</th>\n",
       "      <td>...</td>\n",
       "      <td>...</td>\n",
       "      <td>...</td>\n",
       "      <td>...</td>\n",
       "      <td>...</td>\n",
       "      <td>...</td>\n",
       "    </tr>\n",
       "    <tr>\n",
       "      <th>5388169</th>\n",
       "      <td>3169437</td>\n",
       "      <td>21642</td>\n",
       "      <td>400</td>\n",
       "      <td>0.8</td>\n",
       "      <td>2005-12-22 02:54:43</td>\n",
       "      <td>34392</td>\n",
       "    </tr>\n",
       "    <tr>\n",
       "      <th>8003704</th>\n",
       "      <td>4829776</td>\n",
       "      <td>33184</td>\n",
       "      <td>667</td>\n",
       "      <td>0.4</td>\n",
       "      <td>2002-09-25 01:01:18</td>\n",
       "      <td>745</td>\n",
       "    </tr>\n",
       "    <tr>\n",
       "      <th>11618573</th>\n",
       "      <td>10082478</td>\n",
       "      <td>69731</td>\n",
       "      <td>1378</td>\n",
       "      <td>1.0</td>\n",
       "      <td>2000-05-24 00:51:15</td>\n",
       "      <td>7527</td>\n",
       "    </tr>\n",
       "    <tr>\n",
       "      <th>1317681</th>\n",
       "      <td>4997244</td>\n",
       "      <td>34377</td>\n",
       "      <td>49</td>\n",
       "      <td>1.0</td>\n",
       "      <td>2004-10-09 02:21:01</td>\n",
       "      <td>15087</td>\n",
       "    </tr>\n",
       "    <tr>\n",
       "      <th>17688088</th>\n",
       "      <td>175189</td>\n",
       "      <td>1184</td>\n",
       "      <td>3912</td>\n",
       "      <td>0.7</td>\n",
       "      <td>2004-11-15 22:56:16</td>\n",
       "      <td>3843</td>\n",
       "    </tr>\n",
       "  </tbody>\n",
       "</table>\n",
       "<p>19977 rows × 6 columns</p>\n",
       "</div>"
      ],
      "text/plain": [
       "             index  userId  movieId  rating            timestamp  \\\n",
       "9577464    2213267   15016      965     0.7  2009-02-15 04:42:47   \n",
       "7147461   17158122  118697      590     0.1  2015-03-14 00:02:54   \n",
       "12085349   5660850   38959     1460     0.6  2000-09-20 23:06:00   \n",
       "5373855   12276050   84799      398     0.6  1997-04-29 06:35:52   \n",
       "9769020   12904751   89124     1044     0.5  2008-08-04 16:38:39   \n",
       "...            ...     ...      ...     ...                  ...   \n",
       "5388169    3169437   21642      400     0.8  2005-12-22 02:54:43   \n",
       "8003704    4829776   33184      667     0.4  2002-09-25 01:01:18   \n",
       "11618573  10082478   69731     1378     1.0  2000-05-24 00:51:15   \n",
       "1317681    4997244   34377       49     1.0  2004-10-09 02:21:01   \n",
       "17688088    175189    1184     3912     0.7  2004-11-15 22:56:16   \n",
       "\n",
       "          ratings_of_movieId  \n",
       "9577464                 3684  \n",
       "7147461                15977  \n",
       "12085349               12999  \n",
       "5373855                 9083  \n",
       "9769020                32255  \n",
       "...                      ...  \n",
       "5388169                34392  \n",
       "8003704                  745  \n",
       "11618573                7527  \n",
       "1317681                15087  \n",
       "17688088                3843  \n",
       "\n",
       "[19977 rows x 6 columns]"
      ]
     },
     "execution_count": 7,
     "metadata": {},
     "output_type": "execute_result"
    }
   ],
   "source": [
    "test_rating_df"
   ]
  },
  {
   "cell_type": "markdown",
   "metadata": {},
   "source": [
    "# UMR: userid, movieid and rating array"
   ]
  },
  {
   "cell_type": "code",
   "execution_count": 8,
   "metadata": {},
   "outputs": [],
   "source": [
    "umr_train = train_rating_df[['userId','movieId','rating']].values"
   ]
  },
  {
   "cell_type": "code",
   "execution_count": 9,
   "metadata": {},
   "outputs": [],
   "source": [
    "umr_test =  test_rating_df[['userId','movieId','rating']].values"
   ]
  },
  {
   "cell_type": "code",
   "execution_count": 10,
   "metadata": {},
   "outputs": [],
   "source": [
    "#ratings[\"user_rating_pairs\"] = list(zip(ratings['userId'], ratings['rating']))"
   ]
  },
  {
   "cell_type": "code",
   "execution_count": 11,
   "metadata": {},
   "outputs": [],
   "source": [
    "per_movieId_df = rating_df[['movieId', 'rating', 'userId']].groupby('movieId').agg(list)\n",
    "per_userId_df = rating_df[['movieId', 'rating', 'userId']].groupby('userId').agg(list)"
   ]
  },
  {
   "cell_type": "code",
   "execution_count": 12,
   "metadata": {
    "scrolled": true
   },
   "outputs": [
    {
     "data": {
      "text/html": [
       "<div>\n",
       "<style scoped>\n",
       "    .dataframe tbody tr th:only-of-type {\n",
       "        vertical-align: middle;\n",
       "    }\n",
       "\n",
       "    .dataframe tbody tr th {\n",
       "        vertical-align: top;\n",
       "    }\n",
       "\n",
       "    .dataframe thead th {\n",
       "        text-align: right;\n",
       "    }\n",
       "</style>\n",
       "<table border=\"1\" class=\"dataframe\">\n",
       "  <thead>\n",
       "    <tr style=\"text-align: right;\">\n",
       "      <th></th>\n",
       "      <th>movieId</th>\n",
       "      <th>rating</th>\n",
       "    </tr>\n",
       "    <tr>\n",
       "      <th>userId</th>\n",
       "      <th></th>\n",
       "      <th></th>\n",
       "    </tr>\n",
       "  </thead>\n",
       "  <tbody>\n",
       "    <tr>\n",
       "      <th>0</th>\n",
       "      <td>[0, 1, 2, 3, 4, 5, 6, 7, 8, 9, 10, 11, 12, 13,...</td>\n",
       "      <td>[0.7, 0.7, 0.7, 0.7, 0.7, 0.7, 0.8, 0.8, 0.8, ...</td>\n",
       "    </tr>\n",
       "    <tr>\n",
       "      <th>1</th>\n",
       "      <td>[9, 15, 16, 20, 30, 35, 43, 45, 80, 175, 176, ...</td>\n",
       "      <td>[1.0, 1.0, 1.0, 1.0, 1.0, 1.0, 1.0, 1.0, 0.4, ...</td>\n",
       "    </tr>\n",
       "    <tr>\n",
       "      <th>2</th>\n",
       "      <td>[2, 4, 7, 9, 12, 13, 15, 16, 17, 19, 20, 23, 2...</td>\n",
       "      <td>[0.8, 1.0, 1.0, 1.0, 1.0, 0.6, 1.0, 0.8, 1.0, ...</td>\n",
       "    </tr>\n",
       "    <tr>\n",
       "      <th>3</th>\n",
       "      <td>[2, 14, 16, 182, 234, 235, 364, 365, 366, 367,...</td>\n",
       "      <td>[0.2, 0.6, 0.8, 0.8, 0.6, 0.6, 0.6, 0.8, 0.6, ...</td>\n",
       "    </tr>\n",
       "    <tr>\n",
       "      <th>4</th>\n",
       "      <td>[0, 9, 12, 14, 16, 17, 22, 23, 24, 27, 28, 30,...</td>\n",
       "      <td>[0.6, 1.0, 1.0, 0.6, 1.0, 0.6, 1.0, 1.0, 1.0, ...</td>\n",
       "    </tr>\n",
       "    <tr>\n",
       "      <th>...</th>\n",
       "      <td>...</td>\n",
       "      <td>...</td>\n",
       "    </tr>\n",
       "    <tr>\n",
       "      <th>138488</th>\n",
       "      <td>[1, 4, 12, 17, 29, 68, 72, 96, 203, 205, 244, ...</td>\n",
       "      <td>[0.8, 0.9, 1.0, 0.8, 0.9, 0.8, 0.6, 0.9, 0.7, ...</td>\n",
       "    </tr>\n",
       "    <tr>\n",
       "      <th>138489</th>\n",
       "      <td>[2, 11, 13, 17, 56, 178, 192, 205, 259, 285, 3...</td>\n",
       "      <td>[1.0, 0.8, 0.6, 1.0, 0.8, 0.8, 0.8, 0.6, 0.8, ...</td>\n",
       "    </tr>\n",
       "    <tr>\n",
       "      <th>138490</th>\n",
       "      <td>[116, 173, 194, 227, 255, 280, 336, 345, 350, ...</td>\n",
       "      <td>[0.8, 0.5, 0.7, 0.4, 0.7, 0.1, 0.3, 0.3, 1.0, ...</td>\n",
       "    </tr>\n",
       "    <tr>\n",
       "      <th>138491</th>\n",
       "      <td>[28, 30, 31, 33, 51, 56, 98, 111, 114, 142, 16...</td>\n",
       "      <td>[0.9, 0.9, 0.7, 0.9, 0.9, 0.9, 0.9, 1.0, 1.0, ...</td>\n",
       "    </tr>\n",
       "    <tr>\n",
       "      <th>138492</th>\n",
       "      <td>[0, 8, 9, 11, 13, 14, 24, 27, 28, 29, 30, 31, ...</td>\n",
       "      <td>[0.8, 0.9, 0.9, 0.9, 0.8, 0.9, 1.0, 0.7, 1.0, ...</td>\n",
       "    </tr>\n",
       "  </tbody>\n",
       "</table>\n",
       "<p>138493 rows × 2 columns</p>\n",
       "</div>"
      ],
      "text/plain": [
       "                                                  movieId  \\\n",
       "userId                                                      \n",
       "0       [0, 1, 2, 3, 4, 5, 6, 7, 8, 9, 10, 11, 12, 13,...   \n",
       "1       [9, 15, 16, 20, 30, 35, 43, 45, 80, 175, 176, ...   \n",
       "2       [2, 4, 7, 9, 12, 13, 15, 16, 17, 19, 20, 23, 2...   \n",
       "3       [2, 14, 16, 182, 234, 235, 364, 365, 366, 367,...   \n",
       "4       [0, 9, 12, 14, 16, 17, 22, 23, 24, 27, 28, 30,...   \n",
       "...                                                   ...   \n",
       "138488  [1, 4, 12, 17, 29, 68, 72, 96, 203, 205, 244, ...   \n",
       "138489  [2, 11, 13, 17, 56, 178, 192, 205, 259, 285, 3...   \n",
       "138490  [116, 173, 194, 227, 255, 280, 336, 345, 350, ...   \n",
       "138491  [28, 30, 31, 33, 51, 56, 98, 111, 114, 142, 16...   \n",
       "138492  [0, 8, 9, 11, 13, 14, 24, 27, 28, 29, 30, 31, ...   \n",
       "\n",
       "                                                   rating  \n",
       "userId                                                     \n",
       "0       [0.7, 0.7, 0.7, 0.7, 0.7, 0.7, 0.8, 0.8, 0.8, ...  \n",
       "1       [1.0, 1.0, 1.0, 1.0, 1.0, 1.0, 1.0, 1.0, 0.4, ...  \n",
       "2       [0.8, 1.0, 1.0, 1.0, 1.0, 0.6, 1.0, 0.8, 1.0, ...  \n",
       "3       [0.2, 0.6, 0.8, 0.8, 0.6, 0.6, 0.6, 0.8, 0.6, ...  \n",
       "4       [0.6, 1.0, 1.0, 0.6, 1.0, 0.6, 1.0, 1.0, 1.0, ...  \n",
       "...                                                   ...  \n",
       "138488  [0.8, 0.9, 1.0, 0.8, 0.9, 0.8, 0.6, 0.9, 0.7, ...  \n",
       "138489  [1.0, 0.8, 0.6, 1.0, 0.8, 0.8, 0.8, 0.6, 0.8, ...  \n",
       "138490  [0.8, 0.5, 0.7, 0.4, 0.7, 0.1, 0.3, 0.3, 1.0, ...  \n",
       "138491  [0.9, 0.9, 0.7, 0.9, 0.9, 0.9, 0.9, 1.0, 1.0, ...  \n",
       "138492  [0.8, 0.9, 0.9, 0.9, 0.8, 0.9, 1.0, 0.7, 1.0, ...  \n",
       "\n",
       "[138493 rows x 2 columns]"
      ]
     },
     "execution_count": 12,
     "metadata": {},
     "output_type": "execute_result"
    }
   ],
   "source": [
    "per_userId_df"
   ]
  },
  {
   "cell_type": "code",
   "execution_count": 13,
   "metadata": {},
   "outputs": [],
   "source": [
    "class Recommender(torch.nn.Module):\n",
    "    \n",
    "    def __init__(self, n_U, n_P, k):\n",
    "        super(Recommender, self).__init__()\n",
    "        \n",
    "        self.U = torch.nn.Parameter(torch.rand(n_U, k, requires_grad=True))\n",
    "        self.P = torch.nn.Parameter(torch.rand(n_P, k, requires_grad=True))\n",
    "        \n",
    "    def forward(self, i_user, i_product):\n",
    "        i_user = int(i_user)\n",
    "        i_product = int(i_product)\n",
    "        user_vector = self.U[i_user]\n",
    "        product_vector = self.P[i_product]\n",
    "        return user_vector @ product_vector ## inner porduct\n",
    "    \n",
    "    def get_loss(self,umr):\n",
    "        loss_fn = torch.nn.MSELoss()\n",
    "        result = 0\n",
    "        for u,m,r in umr:\n",
    "            r_hat = self.forward(u, m)\n",
    "            r = torch.Tensor([r]).squeeze()\n",
    "            result += loss_fn(r_hat, r)\n",
    "        return result / len(umr)\n",
    "    \n",
    "    "
   ]
  },
  {
   "cell_type": "code",
   "execution_count": 14,
   "metadata": {},
   "outputs": [],
   "source": [
    "n_U = train_rating_df['userId'].nunique()\n",
    "n_P = train_rating_df['movieId'].nunique()\n",
    "k = 7"
   ]
  },
  {
   "cell_type": "code",
   "execution_count": 15,
   "metadata": {},
   "outputs": [],
   "source": [
    "model = Recommender(n_U, n_P, k)"
   ]
  },
  {
   "cell_type": "code",
   "execution_count": 16,
   "metadata": {},
   "outputs": [
    {
     "data": {
      "text/plain": [
       "tensor(1.5483, grad_fn=<DivBackward0>)"
      ]
     },
     "execution_count": 16,
     "metadata": {},
     "output_type": "execute_result"
    }
   ],
   "source": [
    "model.get_loss(umr_test)"
   ]
  },
  {
   "cell_type": "markdown",
   "metadata": {},
   "source": [
    "## Explaination ALS\n",
    "\n",
    "We initialize $P$ randomly, and assume that these are a good set of product features. Each movie $m$ is thus represented with the features $P[m]$, (or $P[m]^T$ as a column vector). We estimate the ratings that users gives this movies $m$ by the formule $\\hat{R}[:, m] = U \\cdot P[m]^T$. But this is exactly an OLS problem.\n",
    "\n",
    "\n",
    "But for we actually have data, $R[:,m]$ , not for every user, but for some users for every movie. If we interpret this problem as a linear regression, then the best estimator for $P[m]$ would be given by $\\hat{P[m]}^T = (\\tilde{U}^T \\tilde{U})^{-1}\\tilde{U}^T R[:, m]$. The dimensions of these matrices are:\n",
    "- $P[m]^T$: {n_P} x 1\n",
    "- $U$: {n_U} x k\n",
    "- $R[:, m]$: {ratings of movie m} x 1\n"
   ]
  },
  {
   "cell_type": "code",
   "execution_count": 17,
   "metadata": {},
   "outputs": [],
   "source": [
    "per_userId_df = per_userId_df.reset_index()"
   ]
  },
  {
   "cell_type": "code",
   "execution_count": 18,
   "metadata": {},
   "outputs": [
    {
     "data": {
      "text/html": [
       "<div>\n",
       "<style scoped>\n",
       "    .dataframe tbody tr th:only-of-type {\n",
       "        vertical-align: middle;\n",
       "    }\n",
       "\n",
       "    .dataframe tbody tr th {\n",
       "        vertical-align: top;\n",
       "    }\n",
       "\n",
       "    .dataframe thead th {\n",
       "        text-align: right;\n",
       "    }\n",
       "</style>\n",
       "<table border=\"1\" class=\"dataframe\">\n",
       "  <thead>\n",
       "    <tr style=\"text-align: right;\">\n",
       "      <th></th>\n",
       "      <th>userId</th>\n",
       "      <th>movieId</th>\n",
       "      <th>rating</th>\n",
       "    </tr>\n",
       "  </thead>\n",
       "  <tbody>\n",
       "    <tr>\n",
       "      <th>0</th>\n",
       "      <td>0</td>\n",
       "      <td>[0, 1, 2, 3, 4, 5, 6, 7, 8, 9, 10, 11, 12, 13,...</td>\n",
       "      <td>[0.7, 0.7, 0.7, 0.7, 0.7, 0.7, 0.8, 0.8, 0.8, ...</td>\n",
       "    </tr>\n",
       "    <tr>\n",
       "      <th>1</th>\n",
       "      <td>1</td>\n",
       "      <td>[9, 15, 16, 20, 30, 35, 43, 45, 80, 175, 176, ...</td>\n",
       "      <td>[1.0, 1.0, 1.0, 1.0, 1.0, 1.0, 1.0, 1.0, 0.4, ...</td>\n",
       "    </tr>\n",
       "    <tr>\n",
       "      <th>2</th>\n",
       "      <td>2</td>\n",
       "      <td>[2, 4, 7, 9, 12, 13, 15, 16, 17, 19, 20, 23, 2...</td>\n",
       "      <td>[0.8, 1.0, 1.0, 1.0, 1.0, 0.6, 1.0, 0.8, 1.0, ...</td>\n",
       "    </tr>\n",
       "    <tr>\n",
       "      <th>3</th>\n",
       "      <td>3</td>\n",
       "      <td>[2, 14, 16, 182, 234, 235, 364, 365, 366, 367,...</td>\n",
       "      <td>[0.2, 0.6, 0.8, 0.8, 0.6, 0.6, 0.6, 0.8, 0.6, ...</td>\n",
       "    </tr>\n",
       "    <tr>\n",
       "      <th>4</th>\n",
       "      <td>4</td>\n",
       "      <td>[0, 9, 12, 14, 16, 17, 22, 23, 24, 27, 28, 30,...</td>\n",
       "      <td>[0.6, 1.0, 1.0, 0.6, 1.0, 0.6, 1.0, 1.0, 1.0, ...</td>\n",
       "    </tr>\n",
       "    <tr>\n",
       "      <th>...</th>\n",
       "      <td>...</td>\n",
       "      <td>...</td>\n",
       "      <td>...</td>\n",
       "    </tr>\n",
       "    <tr>\n",
       "      <th>138488</th>\n",
       "      <td>138488</td>\n",
       "      <td>[1, 4, 12, 17, 29, 68, 72, 96, 203, 205, 244, ...</td>\n",
       "      <td>[0.8, 0.9, 1.0, 0.8, 0.9, 0.8, 0.6, 0.9, 0.7, ...</td>\n",
       "    </tr>\n",
       "    <tr>\n",
       "      <th>138489</th>\n",
       "      <td>138489</td>\n",
       "      <td>[2, 11, 13, 17, 56, 178, 192, 205, 259, 285, 3...</td>\n",
       "      <td>[1.0, 0.8, 0.6, 1.0, 0.8, 0.8, 0.8, 0.6, 0.8, ...</td>\n",
       "    </tr>\n",
       "    <tr>\n",
       "      <th>138490</th>\n",
       "      <td>138490</td>\n",
       "      <td>[116, 173, 194, 227, 255, 280, 336, 345, 350, ...</td>\n",
       "      <td>[0.8, 0.5, 0.7, 0.4, 0.7, 0.1, 0.3, 0.3, 1.0, ...</td>\n",
       "    </tr>\n",
       "    <tr>\n",
       "      <th>138491</th>\n",
       "      <td>138491</td>\n",
       "      <td>[28, 30, 31, 33, 51, 56, 98, 111, 114, 142, 16...</td>\n",
       "      <td>[0.9, 0.9, 0.7, 0.9, 0.9, 0.9, 0.9, 1.0, 1.0, ...</td>\n",
       "    </tr>\n",
       "    <tr>\n",
       "      <th>138492</th>\n",
       "      <td>138492</td>\n",
       "      <td>[0, 8, 9, 11, 13, 14, 24, 27, 28, 29, 30, 31, ...</td>\n",
       "      <td>[0.8, 0.9, 0.9, 0.9, 0.8, 0.9, 1.0, 0.7, 1.0, ...</td>\n",
       "    </tr>\n",
       "  </tbody>\n",
       "</table>\n",
       "<p>138493 rows × 3 columns</p>\n",
       "</div>"
      ],
      "text/plain": [
       "        userId                                            movieId  \\\n",
       "0            0  [0, 1, 2, 3, 4, 5, 6, 7, 8, 9, 10, 11, 12, 13,...   \n",
       "1            1  [9, 15, 16, 20, 30, 35, 43, 45, 80, 175, 176, ...   \n",
       "2            2  [2, 4, 7, 9, 12, 13, 15, 16, 17, 19, 20, 23, 2...   \n",
       "3            3  [2, 14, 16, 182, 234, 235, 364, 365, 366, 367,...   \n",
       "4            4  [0, 9, 12, 14, 16, 17, 22, 23, 24, 27, 28, 30,...   \n",
       "...        ...                                                ...   \n",
       "138488  138488  [1, 4, 12, 17, 29, 68, 72, 96, 203, 205, 244, ...   \n",
       "138489  138489  [2, 11, 13, 17, 56, 178, 192, 205, 259, 285, 3...   \n",
       "138490  138490  [116, 173, 194, 227, 255, 280, 336, 345, 350, ...   \n",
       "138491  138491  [28, 30, 31, 33, 51, 56, 98, 111, 114, 142, 16...   \n",
       "138492  138492  [0, 8, 9, 11, 13, 14, 24, 27, 28, 29, 30, 31, ...   \n",
       "\n",
       "                                                   rating  \n",
       "0       [0.7, 0.7, 0.7, 0.7, 0.7, 0.7, 0.8, 0.8, 0.8, ...  \n",
       "1       [1.0, 1.0, 1.0, 1.0, 1.0, 1.0, 1.0, 1.0, 0.4, ...  \n",
       "2       [0.8, 1.0, 1.0, 1.0, 1.0, 0.6, 1.0, 0.8, 1.0, ...  \n",
       "3       [0.2, 0.6, 0.8, 0.8, 0.6, 0.6, 0.6, 0.8, 0.6, ...  \n",
       "4       [0.6, 1.0, 1.0, 0.6, 1.0, 0.6, 1.0, 1.0, 1.0, ...  \n",
       "...                                                   ...  \n",
       "138488  [0.8, 0.9, 1.0, 0.8, 0.9, 0.8, 0.6, 0.9, 0.7, ...  \n",
       "138489  [1.0, 0.8, 0.6, 1.0, 0.8, 0.8, 0.8, 0.6, 0.8, ...  \n",
       "138490  [0.8, 0.5, 0.7, 0.4, 0.7, 0.1, 0.3, 0.3, 1.0, ...  \n",
       "138491  [0.9, 0.9, 0.7, 0.9, 0.9, 0.9, 0.9, 1.0, 1.0, ...  \n",
       "138492  [0.8, 0.9, 0.9, 0.9, 0.8, 0.9, 1.0, 0.7, 1.0, ...  \n",
       "\n",
       "[138493 rows x 3 columns]"
      ]
     },
     "execution_count": 18,
     "metadata": {},
     "output_type": "execute_result"
    }
   ],
   "source": [
    "per_userId_df"
   ]
  },
  {
   "cell_type": "code",
   "execution_count": 19,
   "metadata": {},
   "outputs": [
    {
     "data": {
      "text/html": [
       "<div>\n",
       "<style scoped>\n",
       "    .dataframe tbody tr th:only-of-type {\n",
       "        vertical-align: middle;\n",
       "    }\n",
       "\n",
       "    .dataframe tbody tr th {\n",
       "        vertical-align: top;\n",
       "    }\n",
       "\n",
       "    .dataframe thead th {\n",
       "        text-align: right;\n",
       "    }\n",
       "</style>\n",
       "<table border=\"1\" class=\"dataframe\">\n",
       "  <thead>\n",
       "    <tr style=\"text-align: right;\">\n",
       "      <th></th>\n",
       "      <th>movieId</th>\n",
       "      <th>rating</th>\n",
       "      <th>userId</th>\n",
       "    </tr>\n",
       "  </thead>\n",
       "  <tbody>\n",
       "    <tr>\n",
       "      <th>0</th>\n",
       "      <td>0</td>\n",
       "      <td>[0.7, 0.6, 0.6, 0.6, 0.6, 0.6, 0.2, 0.7, 0.4, ...</td>\n",
       "      <td>[0, 4, 12, 28, 33, 53, 87, 90, 115, 118, 119, ...</td>\n",
       "    </tr>\n",
       "    <tr>\n",
       "      <th>1</th>\n",
       "      <td>1</td>\n",
       "      <td>[0.7, 0.6, 1.0, 0.8, 0.8, 0.6, 1.0, 0.8, 0.7, ...</td>\n",
       "      <td>[0, 26, 52, 77, 95, 103, 131, 154, 161, 165, 1...</td>\n",
       "    </tr>\n",
       "    <tr>\n",
       "      <th>2</th>\n",
       "      <td>2</td>\n",
       "      <td>[0.7, 0.8, 0.2, 1.0, 0.6, 1.0, 0.4, 0.8, 1.0, ...</td>\n",
       "      <td>[0, 2, 3, 10, 11, 12, 18, 20, 22, 23, 24, 28, ...</td>\n",
       "    </tr>\n",
       "    <tr>\n",
       "      <th>3</th>\n",
       "      <td>3</td>\n",
       "      <td>[0.7, 1.0, 1.0, 0.8, 1.0, 0.8, 0.6, 0.8, 0.9, ...</td>\n",
       "      <td>[0, 7, 12, 21, 22, 23, 24, 25, 26, 28, 31, 34,...</td>\n",
       "    </tr>\n",
       "    <tr>\n",
       "      <th>4</th>\n",
       "      <td>4</td>\n",
       "      <td>[0.7, 1.0, 0.6, 1.0, 0.8, 1.0, 1.0, 0.7, 1.0, ...</td>\n",
       "      <td>[0, 2, 14, 20, 21, 22, 23, 24, 25, 28, 31, 34,...</td>\n",
       "    </tr>\n",
       "    <tr>\n",
       "      <th>...</th>\n",
       "      <td>...</td>\n",
       "      <td>...</td>\n",
       "      <td>...</td>\n",
       "    </tr>\n",
       "    <tr>\n",
       "      <th>16867</th>\n",
       "      <td>16867</td>\n",
       "      <td>[1.0, 0.8, 0.8, 0.7, 0.8, 0.7, 0.8, 0.9, 0.7, ...</td>\n",
       "      <td>[80770, 87008, 87560, 91192, 98864, 105579, 10...</td>\n",
       "    </tr>\n",
       "    <tr>\n",
       "      <th>16868</th>\n",
       "      <td>16868</td>\n",
       "      <td>[0.3, 0.7, 0.6, 0.7, 0.6, 0.6, 0.9]</td>\n",
       "      <td>[83554, 84848, 88819, 100470, 125793, 129582, ...</td>\n",
       "    </tr>\n",
       "    <tr>\n",
       "      <th>16869</th>\n",
       "      <td>16869</td>\n",
       "      <td>[0.8, 0.3, 0.7, 0.9, 0.7, 0.8, 0.7]</td>\n",
       "      <td>[84848, 86528, 91192, 115605, 118204, 130766, ...</td>\n",
       "    </tr>\n",
       "    <tr>\n",
       "      <th>16870</th>\n",
       "      <td>16870</td>\n",
       "      <td>[0.8, 0.6, 0.7, 0.5, 0.8, 0.8, 0.5, 0.6, 0.4, ...</td>\n",
       "      <td>[88311, 91192, 102024, 105579, 111548, 113293,...</td>\n",
       "    </tr>\n",
       "    <tr>\n",
       "      <th>16871</th>\n",
       "      <td>16871</td>\n",
       "      <td>[0.6, 0.4, 0.2, 1.0, 0.5, 0.1, 1.0]</td>\n",
       "      <td>[106440, 112364, 114405, 123296, 130621, 13456...</td>\n",
       "    </tr>\n",
       "  </tbody>\n",
       "</table>\n",
       "<p>16872 rows × 3 columns</p>\n",
       "</div>"
      ],
      "text/plain": [
       "       movieId                                             rating  \\\n",
       "0            0  [0.7, 0.6, 0.6, 0.6, 0.6, 0.6, 0.2, 0.7, 0.4, ...   \n",
       "1            1  [0.7, 0.6, 1.0, 0.8, 0.8, 0.6, 1.0, 0.8, 0.7, ...   \n",
       "2            2  [0.7, 0.8, 0.2, 1.0, 0.6, 1.0, 0.4, 0.8, 1.0, ...   \n",
       "3            3  [0.7, 1.0, 1.0, 0.8, 1.0, 0.8, 0.6, 0.8, 0.9, ...   \n",
       "4            4  [0.7, 1.0, 0.6, 1.0, 0.8, 1.0, 1.0, 0.7, 1.0, ...   \n",
       "...        ...                                                ...   \n",
       "16867    16867  [1.0, 0.8, 0.8, 0.7, 0.8, 0.7, 0.8, 0.9, 0.7, ...   \n",
       "16868    16868                [0.3, 0.7, 0.6, 0.7, 0.6, 0.6, 0.9]   \n",
       "16869    16869                [0.8, 0.3, 0.7, 0.9, 0.7, 0.8, 0.7]   \n",
       "16870    16870  [0.8, 0.6, 0.7, 0.5, 0.8, 0.8, 0.5, 0.6, 0.4, ...   \n",
       "16871    16871                [0.6, 0.4, 0.2, 1.0, 0.5, 0.1, 1.0]   \n",
       "\n",
       "                                                  userId  \n",
       "0      [0, 4, 12, 28, 33, 53, 87, 90, 115, 118, 119, ...  \n",
       "1      [0, 26, 52, 77, 95, 103, 131, 154, 161, 165, 1...  \n",
       "2      [0, 2, 3, 10, 11, 12, 18, 20, 22, 23, 24, 28, ...  \n",
       "3      [0, 7, 12, 21, 22, 23, 24, 25, 26, 28, 31, 34,...  \n",
       "4      [0, 2, 14, 20, 21, 22, 23, 24, 25, 28, 31, 34,...  \n",
       "...                                                  ...  \n",
       "16867  [80770, 87008, 87560, 91192, 98864, 105579, 10...  \n",
       "16868  [83554, 84848, 88819, 100470, 125793, 129582, ...  \n",
       "16869  [84848, 86528, 91192, 115605, 118204, 130766, ...  \n",
       "16870  [88311, 91192, 102024, 105579, 111548, 113293,...  \n",
       "16871  [106440, 112364, 114405, 123296, 130621, 13456...  \n",
       "\n",
       "[16872 rows x 3 columns]"
      ]
     },
     "execution_count": 19,
     "metadata": {},
     "output_type": "execute_result"
    }
   ],
   "source": [
    "per_movieId_df=per_movieId_df.reset_index()\n",
    "per_movieId_df"
   ]
  },
  {
   "cell_type": "code",
   "execution_count": 20,
   "metadata": {},
   "outputs": [],
   "source": [
    "def update_P(model):\n",
    "    for movie, ratings, users in per_movieId_df.values:\n",
    "        indices = torch.LongTensor(users)\n",
    "        ratings_for_indices = torch.Tensor(ratings)\n",
    "        U_tilde = model.U.index_select(0, indices)\n",
    "        model.P[movie] = ratings_for_indices  @ U_tilde @ ((U_tilde.T @ U_tilde).inverse()) \n",
    "    "
   ]
  },
  {
   "cell_type": "code",
   "execution_count": 21,
   "metadata": {
    "scrolled": true
   },
   "outputs": [
    {
     "data": {
      "text/plain": [
       "138493"
      ]
     },
     "execution_count": 21,
     "metadata": {},
     "output_type": "execute_result"
    }
   ],
   "source": [
    "n_U"
   ]
  },
  {
   "cell_type": "code",
   "execution_count": 22,
   "metadata": {},
   "outputs": [],
   "source": [
    "update_P(model)"
   ]
  },
  {
   "cell_type": "code",
   "execution_count": 23,
   "metadata": {},
   "outputs": [],
   "source": [
    "def update_U(model):\n",
    "    for user, movies, ratings in per_userId_df.values:\n",
    "        indices = torch.LongTensor(movies)\n",
    "        ratings_for_indices = torch.Tensor(ratings)\n",
    "        P_tilde = model.P.index_select(0, indices)\n",
    "        model.U[user] = ratings_for_indices  @ P_tilde @ ((P_tilde.T @ P_tilde).inverse()) \n",
    "    "
   ]
  },
  {
   "cell_type": "code",
   "execution_count": 24,
   "metadata": {},
   "outputs": [],
   "source": [
    "update_U(model)"
   ]
  },
  {
   "cell_type": "code",
   "execution_count": 25,
   "metadata": {},
   "outputs": [],
   "source": [
    "def ALS_iterationg(model):\n",
    "    update_P(model)\n",
    "    update_U(model)\n",
    "    "
   ]
  },
  {
   "cell_type": "code",
   "execution_count": 26,
   "metadata": {},
   "outputs": [
    {
     "name": "stdout",
     "output_type": "stream",
     "text": [
      "CPU times: user 1min 25s, sys: 1.3 s, total: 1min 26s\n",
      "Wall time: 15.6 s\n"
     ]
    }
   ],
   "source": [
    "%%time\n",
    "ALS_iterationg(model)"
   ]
  },
  {
   "cell_type": "code",
   "execution_count": 27,
   "metadata": {},
   "outputs": [
    {
     "data": {
      "text/plain": [
       "tensor(0.0261, grad_fn=<DivBackward0>)"
      ]
     },
     "execution_count": 27,
     "metadata": {},
     "output_type": "execute_result"
    }
   ],
   "source": [
    "model.get_loss(umr_test)"
   ]
  },
  {
   "cell_type": "code",
   "execution_count": null,
   "metadata": {},
   "outputs": [],
   "source": []
  },
  {
   "cell_type": "code",
   "execution_count": 1,
   "metadata": {},
   "outputs": [],
   "source": [
    "import ALS"
   ]
  },
  {
   "cell_type": "code",
   "execution_count": null,
   "metadata": {},
   "outputs": [
    {
     "name": "stdout",
     "output_type": "stream",
     "text": [
      "['movieId', 'rating', 'userId']\n",
      "['userId', 'movieId', 'rating']\n",
      "nU: 138493\n",
      "nP: 16872\n",
      "loss_0: 3.7247402667999268\n",
      "ep: 0\n",
      "after updating P loss: 12.291326522827148\n"
     ]
    }
   ],
   "source": [
    "ALS.main(200000, 0.1)"
   ]
  },
  {
   "cell_type": "code",
   "execution_count": null,
   "metadata": {},
   "outputs": [],
   "source": []
  },
  {
   "cell_type": "code",
   "execution_count": null,
   "metadata": {},
   "outputs": [],
   "source": []
  },
  {
   "cell_type": "code",
   "execution_count": 1,
   "metadata": {},
   "outputs": [],
   "source": [
    "import torch\n",
    "from sklearn.model_selection import train_test_split\n",
    "import pandas as pd"
   ]
  },
  {
   "cell_type": "code",
   "execution_count": 75,
   "metadata": {},
   "outputs": [],
   "source": [
    "    rating_df = pd.read_pickle('df.pkl')\n",
    "    rating_df['userId'] = rating_df['userId'] -1\n",
    "    rating_df['rating'] = rating_df['rating']/ 5\n",
    "\n",
    "    rating_df = rating_df.sort_values(by=['userId'])\n",
    "    rating_df = rating_df[rating_df['userId'] < 100]"
   ]
  },
  {
   "cell_type": "code",
   "execution_count": 76,
   "metadata": {},
   "outputs": [],
   "source": [
    "subset_movies = rating_df['movieId'].unique()"
   ]
  },
  {
   "cell_type": "code",
   "execution_count": 77,
   "metadata": {},
   "outputs": [
    {
     "data": {
      "text/plain": [
       "array([   0,  151,  152, ..., 3114, 3120, 3119])"
      ]
     },
     "execution_count": 77,
     "metadata": {},
     "output_type": "execute_result"
    }
   ],
   "source": [
    "subset_movies"
   ]
  },
  {
   "cell_type": "code",
   "execution_count": 78,
   "metadata": {},
   "outputs": [
    {
     "data": {
      "text/html": [
       "<div>\n",
       "<style scoped>\n",
       "    .dataframe tbody tr th:only-of-type {\n",
       "        vertical-align: middle;\n",
       "    }\n",
       "\n",
       "    .dataframe tbody tr th {\n",
       "        vertical-align: top;\n",
       "    }\n",
       "\n",
       "    .dataframe thead th {\n",
       "        text-align: right;\n",
       "    }\n",
       "</style>\n",
       "<table border=\"1\" class=\"dataframe\">\n",
       "  <thead>\n",
       "    <tr style=\"text-align: right;\">\n",
       "      <th></th>\n",
       "      <th>index</th>\n",
       "      <th>userId</th>\n",
       "      <th>movieId</th>\n",
       "      <th>rating</th>\n",
       "      <th>timestamp</th>\n",
       "      <th>ratings_of_movieId</th>\n",
       "    </tr>\n",
       "  </thead>\n",
       "  <tbody>\n",
       "    <tr>\n",
       "      <th>0</th>\n",
       "      <td>0</td>\n",
       "      <td>0</td>\n",
       "      <td>0</td>\n",
       "      <td>0.7</td>\n",
       "      <td>2005-04-02 23:53:47</td>\n",
       "      <td>22243</td>\n",
       "    </tr>\n",
       "    <tr>\n",
       "      <th>2378699</th>\n",
       "      <td>151</td>\n",
       "      <td>0</td>\n",
       "      <td>151</td>\n",
       "      <td>0.8</td>\n",
       "      <td>2005-04-02 23:49:46</td>\n",
       "      <td>1724</td>\n",
       "    </tr>\n",
       "    <tr>\n",
       "      <th>2380423</th>\n",
       "      <td>152</td>\n",
       "      <td>0</td>\n",
       "      <td>152</td>\n",
       "      <td>0.7</td>\n",
       "      <td>2005-04-02 23:31:26</td>\n",
       "      <td>8665</td>\n",
       "    </tr>\n",
       "    <tr>\n",
       "      <th>2389088</th>\n",
       "      <td>153</td>\n",
       "      <td>0</td>\n",
       "      <td>153</td>\n",
       "      <td>0.7</td>\n",
       "      <td>2005-04-02 23:54:20</td>\n",
       "      <td>46</td>\n",
       "    </tr>\n",
       "    <tr>\n",
       "      <th>2389134</th>\n",
       "      <td>154</td>\n",
       "      <td>0</td>\n",
       "      <td>154</td>\n",
       "      <td>0.6</td>\n",
       "      <td>2005-04-02 23:55:27</td>\n",
       "      <td>2521</td>\n",
       "    </tr>\n",
       "    <tr>\n",
       "      <th>...</th>\n",
       "      <td>...</td>\n",
       "      <td>...</td>\n",
       "      <td>...</td>\n",
       "      <td>...</td>\n",
       "      <td>...</td>\n",
       "      <td>...</td>\n",
       "    </tr>\n",
       "    <tr>\n",
       "      <th>10590180</th>\n",
       "      <td>11049</td>\n",
       "      <td>99</td>\n",
       "      <td>1186</td>\n",
       "      <td>0.6</td>\n",
       "      <td>1996-06-25 16:40:02</td>\n",
       "      <td>6022</td>\n",
       "    </tr>\n",
       "    <tr>\n",
       "      <th>587828</th>\n",
       "      <td>11088</td>\n",
       "      <td>99</td>\n",
       "      <td>17</td>\n",
       "      <td>0.8</td>\n",
       "      <td>1996-06-25 16:23:45</td>\n",
       "      <td>63299</td>\n",
       "    </tr>\n",
       "    <tr>\n",
       "      <th>535573</th>\n",
       "      <td>11087</td>\n",
       "      <td>99</td>\n",
       "      <td>16</td>\n",
       "      <td>0.6</td>\n",
       "      <td>1996-06-25 16:29:49</td>\n",
       "      <td>52244</td>\n",
       "    </tr>\n",
       "    <tr>\n",
       "      <th>5609049</th>\n",
       "      <td>11089</td>\n",
       "      <td>99</td>\n",
       "      <td>408</td>\n",
       "      <td>0.8</td>\n",
       "      <td>1996-06-25 16:33:06</td>\n",
       "      <td>43272</td>\n",
       "    </tr>\n",
       "    <tr>\n",
       "      <th>11315093</th>\n",
       "      <td>11084</td>\n",
       "      <td>99</td>\n",
       "      <td>1337</td>\n",
       "      <td>0.8</td>\n",
       "      <td>1996-07-29 14:57:42</td>\n",
       "      <td>6197</td>\n",
       "    </tr>\n",
       "  </tbody>\n",
       "</table>\n",
       "<p>11099 rows × 6 columns</p>\n",
       "</div>"
      ],
      "text/plain": [
       "          index  userId  movieId  rating            timestamp  \\\n",
       "0             0       0        0     0.7  2005-04-02 23:53:47   \n",
       "2378699     151       0      151     0.8  2005-04-02 23:49:46   \n",
       "2380423     152       0      152     0.7  2005-04-02 23:31:26   \n",
       "2389088     153       0      153     0.7  2005-04-02 23:54:20   \n",
       "2389134     154       0      154     0.6  2005-04-02 23:55:27   \n",
       "...         ...     ...      ...     ...                  ...   \n",
       "10590180  11049      99     1186     0.6  1996-06-25 16:40:02   \n",
       "587828    11088      99       17     0.8  1996-06-25 16:23:45   \n",
       "535573    11087      99       16     0.6  1996-06-25 16:29:49   \n",
       "5609049   11089      99      408     0.8  1996-06-25 16:33:06   \n",
       "11315093  11084      99     1337     0.8  1996-07-29 14:57:42   \n",
       "\n",
       "          ratings_of_movieId  \n",
       "0                      22243  \n",
       "2378699                 1724  \n",
       "2380423                 8665  \n",
       "2389088                   46  \n",
       "2389134                 2521  \n",
       "...                      ...  \n",
       "10590180                6022  \n",
       "587828                 63299  \n",
       "535573                 52244  \n",
       "5609049                43272  \n",
       "11315093                6197  \n",
       "\n",
       "[11099 rows x 6 columns]"
      ]
     },
     "execution_count": 78,
     "metadata": {},
     "output_type": "execute_result"
    }
   ],
   "source": [
    "rating_df"
   ]
  },
  {
   "cell_type": "code",
   "execution_count": 79,
   "metadata": {},
   "outputs": [
    {
     "data": {
      "text/plain": [
       "0           True\n",
       "2378699     True\n",
       "2380423     True\n",
       "2389088     True\n",
       "2389134     True\n",
       "            ... \n",
       "10590180    True\n",
       "587828      True\n",
       "535573      True\n",
       "5609049     True\n",
       "11315093    True\n",
       "Name: movieId, Length: 11099, dtype: bool"
      ]
     },
     "execution_count": 79,
     "metadata": {},
     "output_type": "execute_result"
    }
   ],
   "source": [
    "rating_df['movieId'].isin(subset_movies)"
   ]
  },
  {
   "cell_type": "code",
   "execution_count": 61,
   "metadata": {},
   "outputs": [
    {
     "data": {
      "text/html": [
       "<div>\n",
       "<style scoped>\n",
       "    .dataframe tbody tr th:only-of-type {\n",
       "        vertical-align: middle;\n",
       "    }\n",
       "\n",
       "    .dataframe tbody tr th {\n",
       "        vertical-align: top;\n",
       "    }\n",
       "\n",
       "    .dataframe thead th {\n",
       "        text-align: right;\n",
       "    }\n",
       "</style>\n",
       "<table border=\"1\" class=\"dataframe\">\n",
       "  <thead>\n",
       "    <tr style=\"text-align: right;\">\n",
       "      <th></th>\n",
       "      <th>index</th>\n",
       "      <th>userId</th>\n",
       "      <th>movieId</th>\n",
       "      <th>rating</th>\n",
       "      <th>timestamp</th>\n",
       "      <th>ratings_of_movieId</th>\n",
       "    </tr>\n",
       "  </thead>\n",
       "  <tbody>\n",
       "  </tbody>\n",
       "</table>\n",
       "</div>"
      ],
      "text/plain": [
       "Empty DataFrame\n",
       "Columns: [index, userId, movieId, rating, timestamp, ratings_of_movieId]\n",
       "Index: []"
      ]
     },
     "execution_count": 61,
     "metadata": {},
     "output_type": "execute_result"
    }
   ],
   "source": [
    "rating_df[rating_df['movieId'].isin(remove_movieIds) == False]"
   ]
  },
  {
   "cell_type": "code",
   "execution_count": 18,
   "metadata": {},
   "outputs": [],
   "source": [
    "filter_movie_df=filter_movie_df[filter_movie_df == 0]"
   ]
  },
  {
   "cell_type": "code",
   "execution_count": 20,
   "metadata": {},
   "outputs": [
    {
     "data": {
      "text/plain": [
       "0      0\n",
       "162    0\n",
       "73     0\n",
       "120    0\n",
       "157    0\n",
       "      ..\n",
       "28     0\n",
       "23     0\n",
       "130    0\n",
       "62     0\n",
       "110    0\n",
       "Name: movieId, Length: 165, dtype: int64"
      ]
     },
     "execution_count": 20,
     "metadata": {},
     "output_type": "execute_result"
    }
   ],
   "source": [
    "filter_movie_df['movieId']"
   ]
  },
  {
   "cell_type": "code",
   "execution_count": 29,
   "metadata": {},
   "outputs": [
    {
     "data": {
      "text/plain": [
       "0      0\n",
       "1      0\n",
       "2      0\n",
       "3      0\n",
       "4      0\n",
       "      ..\n",
       "160    0\n",
       "161    0\n",
       "162    0\n",
       "163    0\n",
       "164    0\n",
       "Name: movieId, Length: 165, dtype: int64"
      ]
     },
     "execution_count": 29,
     "metadata": {},
     "output_type": "execute_result"
    }
   ],
   "source": [
    "rating_df[rating_df['movieId'].isin(filter_movie_df.) == ]['movieId']"
   ]
  },
  {
   "cell_type": "code",
   "execution_count": null,
   "metadata": {},
   "outputs": [],
   "source": [
    "def re_index_column(df, columname):\n",
    "    unique_values = list(df[columname].unique())\n",
    "    \n",
    "    def process_movie_id(old_id):\n",
    "        return unique_values.index(old_id)\n",
    "    \n",
    "    df[columname] = df[columname].apply(process_movie_id)"
   ]
  },
  {
   "cell_type": "code",
   "execution_count": null,
   "metadata": {},
   "outputs": [],
   "source": []
  },
  {
   "cell_type": "code",
   "execution_count": 80,
   "metadata": {},
   "outputs": [
    {
     "ename": "NameError",
     "evalue": "name 'Als' is not defined",
     "output_type": "error",
     "traceback": [
      "\u001b[0;31m---------------------------------------------------------------------------\u001b[0m",
      "\u001b[0;31mNameError\u001b[0m                                 Traceback (most recent call last)",
      "\u001b[0;32m<ipython-input-80-b123dce179af>\u001b[0m in \u001b[0;36m<module>\u001b[0;34m\u001b[0m\n\u001b[0;32m----> 1\u001b[0;31m \u001b[0mAls\u001b[0m\u001b[0;34m\u001b[0m\u001b[0;34m\u001b[0m\u001b[0m\n\u001b[0m",
      "\u001b[0;31mNameError\u001b[0m: name 'Als' is not defined"
     ]
    }
   ],
   "source": [
    "Als"
   ]
  },
  {
   "cell_type": "code",
   "execution_count": null,
   "metadata": {},
   "outputs": [],
   "source": [
    "impor"
   ]
  }
 ],
 "metadata": {
  "kernelspec": {
   "display_name": "Python 3",
   "language": "python",
   "name": "python3"
  },
  "language_info": {
   "codemirror_mode": {
    "name": "ipython",
    "version": 3
   },
   "file_extension": ".py",
   "mimetype": "text/x-python",
   "name": "python",
   "nbconvert_exporter": "python",
   "pygments_lexer": "ipython3",
   "version": "3.7.4"
  }
 },
 "nbformat": 4,
 "nbformat_minor": 2
}
