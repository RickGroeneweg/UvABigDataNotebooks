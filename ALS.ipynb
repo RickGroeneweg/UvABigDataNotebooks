{
 "cells": [
  {
   "cell_type": "code",
   "execution_count": 1,
   "metadata": {},
   "outputs": [],
   "source": [
    "import ALS"
   ]
  },
  {
   "cell_type": "code",
   "execution_count": 2,
   "metadata": {},
   "outputs": [
    {
     "name": "stdout",
     "output_type": "stream",
     "text": [
      "227 movies left in data\n",
      "['movieId', 'rating', 'userId']\n",
      "['userId', 'movieId', 'rating']\n"
     ]
    }
   ],
   "source": [
    "df = ALS.get_dataframes(2, 0.5)"
   ]
  },
  {
   "cell_type": "code",
   "execution_count": 3,
   "metadata": {},
   "outputs": [
    {
     "data": {
      "text/plain": [
       "array([[0,\n",
       "        list([0, 1, 2, 3, 4, 5, 6, 7, 8, 9, 10, 11, 12, 13, 14, 15, 16, 17, 18, 19, 20, 21, 22, 23, 24, 25, 26, 27, 28, 29, 30, 31, 32, 33, 34, 35, 36, 37, 38, 39, 40, 41, 42, 43, 44, 45, 46, 47, 48, 49, 50, 51, 52, 53, 54, 55, 56, 57, 58, 59, 60, 61, 62, 63, 64, 65, 66, 67, 68, 69, 70, 71, 72, 73, 74, 75, 76, 77, 78, 79, 80, 81, 82, 83, 84, 85, 86, 87, 88, 89, 90, 91, 92, 93, 94, 95, 96, 97, 98, 99, 100, 101, 102, 103, 104, 105, 106, 107, 108, 109, 110, 111, 112, 113, 114, 115, 116, 117, 118, 119, 120, 121, 122, 123, 124, 125, 126, 127, 128, 129, 130, 131, 132, 133, 134, 135, 136, 137, 138, 139, 140, 141, 142, 143, 144, 145, 146, 147, 148, 149, 150, 151, 152, 153, 154, 155, 156, 157, 158, 159, 160, 161, 162, 163, 164, 165, 166, 167, 168, 169, 170, 171, 172, 173, 174]),\n",
       "        list([0.7, 0.8, 0.7, 0.7, 0.6, 0.7, 0.7, 0.8, 1.0, 0.7, 0.7, 0.8, 0.7, 0.7, 0.7, 0.7, 0.8, 0.8, 0.7, 0.7, 0.8, 0.8, 0.7, 0.8, 0.7, 0.7, 0.8, 0.7, 0.8, 0.6, 0.7, 0.8, 0.8, 0.7, 0.8, 0.8, 0.8, 0.7, 1.0, 0.7, 0.8, 0.8, 0.7, 0.8, 0.7, 0.8, 0.7, 0.6, 0.8, 0.8, 0.7, 0.6, 0.8, 0.8, 0.6, 0.8, 0.8, 0.7, 0.7, 0.8, 0.7, 0.8, 0.8, 0.8, 0.8, 0.8, 0.8, 0.8, 0.8, 0.7, 0.7, 0.7, 0.7, 0.7, 0.7, 0.7, 0.8, 0.8, 0.6, 0.7, 0.8, 0.8, 0.8, 0.8, 0.7, 0.7, 1.0, 0.9, 0.7, 0.8, 0.8, 0.7, 0.7, 0.8, 0.7, 0.8, 0.8, 0.7, 0.7, 0.7, 0.7, 0.7, 0.7, 0.7, 0.7, 0.8, 0.8, 0.6, 0.6, 0.8, 0.8, 0.7, 0.7, 0.6, 0.8, 0.8, 0.7, 0.8, 0.6, 0.8, 0.7, 0.8, 0.8, 0.8, 0.8, 0.7, 0.7, 0.8, 0.6, 0.7, 0.7, 0.8, 0.8, 0.8, 0.7, 0.7, 0.7, 0.8, 0.7, 0.8, 0.8, 0.7, 0.7, 0.7, 0.6, 0.7, 0.8, 0.8, 0.7, 0.8, 0.7, 0.8, 0.8, 0.8, 0.8, 0.8, 0.8, 1.0, 0.7, 0.9, 0.8, 0.8, 0.8, 0.8, 0.7, 0.8, 0.7, 0.6, 0.7, 0.8, 0.8, 0.9, 0.6, 0.8, 0.7])],\n",
       "       [1,\n",
       "        list([175, 176, 177, 178, 179, 180, 181, 182, 183, 184, 185, 186, 187, 188, 189, 190, 191, 192, 193, 194, 195, 196, 197, 198, 199, 200, 201, 202, 203, 204, 97, 205, 206, 207, 208, 11, 209, 210, 211, 212, 109, 213, 214, 215, 216, 217, 151, 218, 149, 77, 219, 70, 220, 221, 222, 223, 224, 67, 225, 226, 171]),\n",
       "        list([1.0, 1.0, 1.0, 1.0, 0.8, 0.8, 1.0, 0.6, 1.0, 1.0, 0.6, 0.8, 0.8, 0.6, 0.8, 1.0, 1.0, 0.6, 1.0, 0.6, 0.4, 1.0, 0.6, 0.8, 1.0, 0.6, 0.8, 0.8, 0.8, 0.8, 1.0, 0.8, 0.8, 0.8, 0.6, 1.0, 0.4, 0.4, 0.4, 0.6, 1.0, 1.0, 1.0, 1.0, 0.8, 0.8, 1.0, 1.0, 1.0, 0.4, 1.0, 1.0, 0.4, 0.8, 0.8, 0.6, 1.0, 1.0, 0.4, 0.4, 1.0])]],\n",
       "      dtype=object)"
      ]
     },
     "execution_count": 3,
     "metadata": {},
     "output_type": "execute_result"
    }
   ],
   "source": [
    "df[1]"
   ]
  },
  {
   "cell_type": "code",
   "execution_count": 4,
   "metadata": {},
   "outputs": [
    {
     "data": {
      "text/plain": [
       "array([[0, list([0.7]), list([0])],\n",
       "       [1, list([0.8]), list([0])],\n",
       "       [2, list([0.7]), list([0])],\n",
       "       [3, list([0.7]), list([0])],\n",
       "       [4, list([0.6]), list([0])],\n",
       "       [5, list([0.7]), list([0])],\n",
       "       [6, list([0.7]), list([0])],\n",
       "       [7, list([0.8]), list([0])],\n",
       "       [8, list([1.0]), list([0])],\n",
       "       [9, list([0.7]), list([0])],\n",
       "       [10, list([0.7]), list([0])],\n",
       "       [11, list([0.8, 1.0]), list([0, 1])],\n",
       "       [12, list([0.7]), list([0])],\n",
       "       [13, list([0.7]), list([0])],\n",
       "       [14, list([0.7]), list([0])],\n",
       "       [15, list([0.7]), list([0])],\n",
       "       [16, list([0.8]), list([0])],\n",
       "       [17, list([0.8]), list([0])],\n",
       "       [18, list([0.7]), list([0])],\n",
       "       [19, list([0.7]), list([0])],\n",
       "       [20, list([0.8]), list([0])],\n",
       "       [21, list([0.8]), list([0])],\n",
       "       [22, list([0.7]), list([0])],\n",
       "       [23, list([0.8]), list([0])],\n",
       "       [24, list([0.7]), list([0])],\n",
       "       [25, list([0.7]), list([0])],\n",
       "       [26, list([0.8]), list([0])],\n",
       "       [27, list([0.7]), list([0])],\n",
       "       [28, list([0.8]), list([0])],\n",
       "       [29, list([0.6]), list([0])],\n",
       "       [30, list([0.7]), list([0])],\n",
       "       [31, list([0.8]), list([0])],\n",
       "       [32, list([0.8]), list([0])],\n",
       "       [33, list([0.7]), list([0])],\n",
       "       [34, list([0.8]), list([0])],\n",
       "       [35, list([0.8]), list([0])],\n",
       "       [36, list([0.8]), list([0])],\n",
       "       [37, list([0.7]), list([0])],\n",
       "       [38, list([1.0]), list([0])],\n",
       "       [39, list([0.7]), list([0])],\n",
       "       [40, list([0.8]), list([0])],\n",
       "       [41, list([0.8]), list([0])],\n",
       "       [42, list([0.7]), list([0])],\n",
       "       [43, list([0.8]), list([0])],\n",
       "       [44, list([0.7]), list([0])],\n",
       "       [45, list([0.8]), list([0])],\n",
       "       [46, list([0.7]), list([0])],\n",
       "       [47, list([0.6]), list([0])],\n",
       "       [48, list([0.8]), list([0])],\n",
       "       [49, list([0.8]), list([0])],\n",
       "       [50, list([0.7]), list([0])],\n",
       "       [51, list([0.6]), list([0])],\n",
       "       [52, list([0.8]), list([0])],\n",
       "       [53, list([0.8]), list([0])],\n",
       "       [54, list([0.6]), list([0])],\n",
       "       [55, list([0.8]), list([0])],\n",
       "       [56, list([0.8]), list([0])],\n",
       "       [57, list([0.7]), list([0])],\n",
       "       [58, list([0.7]), list([0])],\n",
       "       [59, list([0.8]), list([0])],\n",
       "       [60, list([0.7]), list([0])],\n",
       "       [61, list([0.8]), list([0])],\n",
       "       [62, list([0.8]), list([0])],\n",
       "       [63, list([0.8]), list([0])],\n",
       "       [64, list([0.8]), list([0])],\n",
       "       [65, list([0.8]), list([0])],\n",
       "       [66, list([0.8]), list([0])],\n",
       "       [67, list([0.8, 1.0]), list([0, 1])],\n",
       "       [68, list([0.8]), list([0])],\n",
       "       [69, list([0.7]), list([0])],\n",
       "       [70, list([0.7, 1.0]), list([0, 1])],\n",
       "       [71, list([0.7]), list([0])],\n",
       "       [72, list([0.7]), list([0])],\n",
       "       [73, list([0.7]), list([0])],\n",
       "       [74, list([0.7]), list([0])],\n",
       "       [75, list([0.7]), list([0])],\n",
       "       [76, list([0.8]), list([0])],\n",
       "       [77, list([0.8, 0.4]), list([0, 1])],\n",
       "       [78, list([0.6]), list([0])],\n",
       "       [79, list([0.7]), list([0])],\n",
       "       [80, list([0.8]), list([0])],\n",
       "       [81, list([0.8]), list([0])],\n",
       "       [82, list([0.8]), list([0])],\n",
       "       [83, list([0.8]), list([0])],\n",
       "       [84, list([0.7]), list([0])],\n",
       "       [85, list([0.7]), list([0])],\n",
       "       [86, list([1.0]), list([0])],\n",
       "       [87, list([0.9]), list([0])],\n",
       "       [88, list([0.7]), list([0])],\n",
       "       [89, list([0.8]), list([0])],\n",
       "       [90, list([0.8]), list([0])],\n",
       "       [91, list([0.7]), list([0])],\n",
       "       [92, list([0.7]), list([0])],\n",
       "       [93, list([0.8]), list([0])],\n",
       "       [94, list([0.7]), list([0])],\n",
       "       [95, list([0.8]), list([0])],\n",
       "       [96, list([0.8]), list([0])],\n",
       "       [97, list([0.7, 1.0]), list([0, 1])],\n",
       "       [98, list([0.7]), list([0])],\n",
       "       [99, list([0.7]), list([0])],\n",
       "       [100, list([0.7]), list([0])],\n",
       "       [101, list([0.7]), list([0])],\n",
       "       [102, list([0.7]), list([0])],\n",
       "       [103, list([0.7]), list([0])],\n",
       "       [104, list([0.7]), list([0])],\n",
       "       [105, list([0.8]), list([0])],\n",
       "       [106, list([0.8]), list([0])],\n",
       "       [107, list([0.6]), list([0])],\n",
       "       [108, list([0.6]), list([0])],\n",
       "       [109, list([0.8, 1.0]), list([0, 1])],\n",
       "       [110, list([0.8]), list([0])],\n",
       "       [111, list([0.7]), list([0])],\n",
       "       [112, list([0.7]), list([0])],\n",
       "       [113, list([0.6]), list([0])],\n",
       "       [114, list([0.8]), list([0])],\n",
       "       [115, list([0.8]), list([0])],\n",
       "       [116, list([0.7]), list([0])],\n",
       "       [117, list([0.8]), list([0])],\n",
       "       [118, list([0.6]), list([0])],\n",
       "       [119, list([0.8]), list([0])],\n",
       "       [120, list([0.7]), list([0])],\n",
       "       [121, list([0.8]), list([0])],\n",
       "       [122, list([0.8]), list([0])],\n",
       "       [123, list([0.8]), list([0])],\n",
       "       [124, list([0.8]), list([0])],\n",
       "       [125, list([0.7]), list([0])],\n",
       "       [126, list([0.7]), list([0])],\n",
       "       [127, list([0.8]), list([0])],\n",
       "       [128, list([0.6]), list([0])],\n",
       "       [129, list([0.7]), list([0])],\n",
       "       [130, list([0.7]), list([0])],\n",
       "       [131, list([0.8]), list([0])],\n",
       "       [132, list([0.8]), list([0])],\n",
       "       [133, list([0.8]), list([0])],\n",
       "       [134, list([0.7]), list([0])],\n",
       "       [135, list([0.7]), list([0])],\n",
       "       [136, list([0.7]), list([0])],\n",
       "       [137, list([0.8]), list([0])],\n",
       "       [138, list([0.7]), list([0])],\n",
       "       [139, list([0.8]), list([0])],\n",
       "       [140, list([0.8]), list([0])],\n",
       "       [141, list([0.7]), list([0])],\n",
       "       [142, list([0.7]), list([0])],\n",
       "       [143, list([0.7]), list([0])],\n",
       "       [144, list([0.6]), list([0])],\n",
       "       [145, list([0.7]), list([0])],\n",
       "       [146, list([0.8]), list([0])],\n",
       "       [147, list([0.8]), list([0])],\n",
       "       [148, list([0.7]), list([0])],\n",
       "       [149, list([0.8, 1.0]), list([0, 1])],\n",
       "       [150, list([0.7]), list([0])],\n",
       "       [151, list([0.8, 1.0]), list([0, 1])],\n",
       "       [152, list([0.8]), list([0])],\n",
       "       [153, list([0.8]), list([0])],\n",
       "       [154, list([0.8]), list([0])],\n",
       "       [155, list([0.8]), list([0])],\n",
       "       [156, list([0.8]), list([0])],\n",
       "       [157, list([1.0]), list([0])],\n",
       "       [158, list([0.7]), list([0])],\n",
       "       [159, list([0.9]), list([0])],\n",
       "       [160, list([0.8]), list([0])],\n",
       "       [161, list([0.8]), list([0])],\n",
       "       [162, list([0.8]), list([0])],\n",
       "       [163, list([0.8]), list([0])],\n",
       "       [164, list([0.7]), list([0])],\n",
       "       [165, list([0.8]), list([0])],\n",
       "       [166, list([0.7]), list([0])],\n",
       "       [167, list([0.6]), list([0])],\n",
       "       [168, list([0.7]), list([0])],\n",
       "       [169, list([0.8]), list([0])],\n",
       "       [170, list([0.8]), list([0])],\n",
       "       [171, list([0.9, 1.0]), list([0, 1])],\n",
       "       [172, list([0.6]), list([0])],\n",
       "       [173, list([0.8]), list([0])],\n",
       "       [174, list([0.7]), list([0])],\n",
       "       [175, list([1.0]), list([1])],\n",
       "       [176, list([1.0]), list([1])],\n",
       "       [177, list([1.0]), list([1])],\n",
       "       [178, list([1.0]), list([1])],\n",
       "       [179, list([0.8]), list([1])],\n",
       "       [180, list([0.8]), list([1])],\n",
       "       [181, list([1.0]), list([1])],\n",
       "       [182, list([0.6]), list([1])],\n",
       "       [183, list([1.0]), list([1])],\n",
       "       [184, list([1.0]), list([1])],\n",
       "       [185, list([0.6]), list([1])],\n",
       "       [186, list([0.8]), list([1])],\n",
       "       [187, list([0.8]), list([1])],\n",
       "       [188, list([0.6]), list([1])],\n",
       "       [189, list([0.8]), list([1])],\n",
       "       [190, list([1.0]), list([1])],\n",
       "       [191, list([1.0]), list([1])],\n",
       "       [192, list([0.6]), list([1])],\n",
       "       [193, list([1.0]), list([1])],\n",
       "       [194, list([0.6]), list([1])],\n",
       "       [195, list([0.4]), list([1])],\n",
       "       [196, list([1.0]), list([1])],\n",
       "       [197, list([0.6]), list([1])],\n",
       "       [198, list([0.8]), list([1])],\n",
       "       [199, list([1.0]), list([1])],\n",
       "       [200, list([0.6]), list([1])],\n",
       "       [201, list([0.8]), list([1])],\n",
       "       [202, list([0.8]), list([1])],\n",
       "       [203, list([0.8]), list([1])],\n",
       "       [204, list([0.8]), list([1])],\n",
       "       [205, list([0.8]), list([1])],\n",
       "       [206, list([0.8]), list([1])],\n",
       "       [207, list([0.8]), list([1])],\n",
       "       [208, list([0.6]), list([1])],\n",
       "       [209, list([0.4]), list([1])],\n",
       "       [210, list([0.4]), list([1])],\n",
       "       [211, list([0.4]), list([1])],\n",
       "       [212, list([0.6]), list([1])],\n",
       "       [213, list([1.0]), list([1])],\n",
       "       [214, list([1.0]), list([1])],\n",
       "       [215, list([1.0]), list([1])],\n",
       "       [216, list([0.8]), list([1])],\n",
       "       [217, list([0.8]), list([1])],\n",
       "       [218, list([1.0]), list([1])],\n",
       "       [219, list([1.0]), list([1])],\n",
       "       [220, list([0.4]), list([1])],\n",
       "       [221, list([0.8]), list([1])],\n",
       "       [222, list([0.8]), list([1])],\n",
       "       [223, list([0.6]), list([1])],\n",
       "       [224, list([1.0]), list([1])],\n",
       "       [225, list([0.4]), list([1])],\n",
       "       [226, list([0.4]), list([1])]], dtype=object)"
      ]
     },
     "execution_count": 4,
     "metadata": {},
     "output_type": "execute_result"
    }
   ],
   "source": [
    "df[2]"
   ]
  },
  {
   "cell_type": "code",
   "execution_count": 19,
   "metadata": {},
   "outputs": [
    {
     "data": {
      "text/plain": [
       "array([  1.,   2.,   4.,   6.,   7.,  11.,  11.,  13.,  14.,  20.,  22.,\n",
       "        23.,  24.,  25.,  26.,  27.,  30.,  36.,  37.,  38.,  42.,  43.,\n",
       "        44.,  47.,  50.,  52.,  54.,  57.,  58.,  60.,  61.,  62.,  64.,\n",
       "        65.,  66.,  68.,  69.,  70.,  70.,  71.,  73.,  76.,  77.,  78.,\n",
       "        79.,  81.,  82.,  85.,  86.,  88.,  90.,  92.,  93.,  95.,  97.,\n",
       "        97.,  98.,  99., 102., 106., 107., 108., 110., 114., 116., 117.,\n",
       "       119., 120., 121., 123., 125., 127., 129., 132., 139., 144., 146.,\n",
       "       148., 149., 149., 150., 151., 153., 156., 157., 158., 160., 162.,\n",
       "       163., 165., 166., 168., 169., 170., 172., 175., 180., 182., 183.,\n",
       "       188., 194., 195., 196., 197., 198., 199., 202., 204., 207., 209.,\n",
       "       211., 213., 216., 217., 222., 223., 224., 226.])"
      ]
     },
     "execution_count": 19,
     "metadata": {},
     "output_type": "execute_result"
    }
   ],
   "source": [
    "df[0][:, 1]"
   ]
  },
  {
   "cell_type": "code",
   "execution_count": 18,
   "metadata": {},
   "outputs": [],
   "source": [
    "x"
   ]
  },
  {
   "cell_type": "code",
   "execution_count": 1,
   "metadata": {},
   "outputs": [],
   "source": [
    "import ALS"
   ]
  },
  {
   "cell_type": "code",
   "execution_count": 15,
   "metadata": {},
   "outputs": [
    {
     "name": "stdout",
     "output_type": "stream",
     "text": [
      "16496 movies left in data\n",
      "['movieId', 'rating', 'userId']\n",
      "['userId', 'movieId', 'rating']\n",
      "nU: 30000\n",
      "nP: 16496\n",
      "loss_0: 3.738884449005127\n",
      "ep: 0\n",
      "after updating P loss: 0.5905869007110596\n",
      "after updating U loss: 0.5430188775062561\n",
      "this epoch took 46.17958092689514\n",
      "ep: 1\n",
      "after updating P loss: 0.5372327566146851\n",
      "after updating U loss: 0.5380905866622925\n",
      "this epoch took 44.18279767036438\n",
      "ep: 2\n",
      "after updating P loss: 0.5370883941650391\n",
      "after updating U loss: 0.5377834439277649\n",
      "this epoch took 44.98357582092285\n",
      "ep: 3\n",
      "after updating P loss: 0.5368666648864746\n",
      "after updating U loss: 0.5385326743125916\n",
      "this epoch took 44.69076895713806\n",
      "ep: 4\n",
      "after updating P loss: 0.5365238189697266\n",
      "after updating U loss: 0.5388586521148682\n",
      "this epoch took 44.4008207321167\n",
      "ep: 5\n",
      "after updating P loss: 0.5365359783172607\n",
      "after updating U loss: 0.5386826395988464\n",
      "this epoch took 44.23087120056152\n",
      "ep: 6\n",
      "after updating P loss: 0.5368951559066772\n",
      "after updating U loss: 0.5380990505218506\n",
      "this epoch took 44.73783826828003\n",
      "ep: 7\n",
      "after updating P loss: 0.5354453325271606\n",
      "after updating U loss: 0.5375848412513733\n",
      "this epoch took 44.372124671936035\n",
      "ep: 8\n",
      "after updating P loss: 0.5348556637763977\n",
      "after updating U loss: 0.5370391011238098\n",
      "this epoch took 45.29067921638489\n",
      "ep: 9\n",
      "after updating P loss: 0.5347355008125305\n",
      "after updating U loss: 0.5364740490913391\n",
      "this epoch took 46.02696251869202\n"
     ]
    }
   ],
   "source": [
    "ALS.main(30000, 0.05)"
   ]
  },
  {
   "cell_type": "code",
   "execution_count": 5,
   "metadata": {},
   "outputs": [],
   "source": [
    "import torch\n",
    "from sklearn.linear_model import LinearRegression"
   ]
  },
  {
   "cell_type": "code",
   "execution_count": null,
   "metadata": {},
   "outputs": [],
   "source": [
    "def update_P(model, per_movieId_umr):\n",
    "    for movie, ratings, users in per_movieId_umr:\n",
    "        indices = torch.LongTensor(users)\n",
    "        ratings_for_indices = torch.Tensor(ratings)\n",
    "        U_tilde = model.U.index_select(0, indices)\n",
    "        model.P[movie] = ratings_for_indices  @ U_tilde @ ((U_tilde.T @ U_tilde).inverse())"
   ]
  },
  {
   "cell_type": "code",
   "execution_count": 4,
   "metadata": {},
   "outputs": [
    {
     "ename": "NameError",
     "evalue": "name 'torch' is not defined",
     "output_type": "error",
     "traceback": [
      "\u001b[0;31m---------------------------------------------------------------------------\u001b[0m",
      "\u001b[0;31mNameError\u001b[0m                                 Traceback (most recent call last)",
      "\u001b[0;32m<ipython-input-4-bd02ab414f62>\u001b[0m in \u001b[0;36m<module>\u001b[0;34m\u001b[0m\n\u001b[0;32m----> 1\u001b[0;31m \u001b[0;32mclass\u001b[0m \u001b[0mRecommender\u001b[0m\u001b[0;34m(\u001b[0m\u001b[0mtorch\u001b[0m\u001b[0;34m.\u001b[0m\u001b[0mnn\u001b[0m\u001b[0;34m.\u001b[0m\u001b[0mModule\u001b[0m\u001b[0;34m)\u001b[0m\u001b[0;34m:\u001b[0m\u001b[0;34m\u001b[0m\u001b[0;34m\u001b[0m\u001b[0m\n\u001b[0m\u001b[1;32m      2\u001b[0m \u001b[0;34m\u001b[0m\u001b[0m\n\u001b[1;32m      3\u001b[0m     \u001b[0;32mdef\u001b[0m \u001b[0m__init__\u001b[0m\u001b[0;34m(\u001b[0m\u001b[0mself\u001b[0m\u001b[0;34m,\u001b[0m \u001b[0mn_U\u001b[0m\u001b[0;34m,\u001b[0m \u001b[0mn_P\u001b[0m\u001b[0;34m,\u001b[0m \u001b[0mk\u001b[0m\u001b[0;34m)\u001b[0m\u001b[0;34m:\u001b[0m\u001b[0;34m\u001b[0m\u001b[0;34m\u001b[0m\u001b[0m\n\u001b[1;32m      4\u001b[0m         \u001b[0msuper\u001b[0m\u001b[0;34m(\u001b[0m\u001b[0mRecommender\u001b[0m\u001b[0;34m,\u001b[0m \u001b[0mself\u001b[0m\u001b[0;34m)\u001b[0m\u001b[0;34m.\u001b[0m\u001b[0m__init__\u001b[0m\u001b[0;34m(\u001b[0m\u001b[0;34m)\u001b[0m\u001b[0;34m\u001b[0m\u001b[0;34m\u001b[0m\u001b[0m\n\u001b[1;32m      5\u001b[0m \u001b[0;34m\u001b[0m\u001b[0m\n",
      "\u001b[0;31mNameError\u001b[0m: name 'torch' is not defined"
     ]
    }
   ],
   "source": [
    "class Recommender(torch.nn.Module):\n",
    "\n",
    "    def __init__(self, n_U, n_P, k):\n",
    "        super(Recommender, self).__init__()\n",
    "\n",
    "        self.U = torch.nn.Parameter(torch.rand(n_U, k, requires_grad=True))\n",
    "        self.P = torch.nn.Parameter(torch.rand(n_P, k, requires_grad=True))\n",
    "\n",
    "    def forward(self, i_user, i_product):\n",
    "        i_user = int(i_user)\n",
    "        i_product = int(i_product)\n",
    "        user_vector = self.U[i_user]\n",
    "        product_vector = self.P[i_product]\n",
    "        return user_vector @ product_vector ## inner porduct\n",
    "\n",
    "    def get_loss(self,umr):\n",
    "        loss_fn = torch.nn.MSELoss()\n",
    "        result = 0\n",
    "        for u,m,r in umr:\n",
    "            r_hat = self.forward(u, m)\n",
    "            r = torch.Tensor([r]).squeeze()\n",
    "            result += loss_fn(r_hat, r)\n",
    "        return result / len(umr)"
   ]
  },
  {
   "cell_type": "code",
   "execution_count": null,
   "metadata": {},
   "outputs": [],
   "source": []
  }
 ],
 "metadata": {
  "kernelspec": {
   "display_name": "Python 3",
   "language": "python",
   "name": "python3"
  },
  "language_info": {
   "codemirror_mode": {
    "name": "ipython",
    "version": 3
   },
   "file_extension": ".py",
   "mimetype": "text/x-python",
   "name": "python",
   "nbconvert_exporter": "python",
   "pygments_lexer": "ipython3",
   "version": "3.7.4"
  }
 },
 "nbformat": 4,
 "nbformat_minor": 2
}
